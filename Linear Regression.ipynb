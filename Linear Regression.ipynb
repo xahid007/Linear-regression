{
 "cells": [
  {
   "cell_type": "markdown",
   "id": "d82ac7d2",
   "metadata": {},
   "source": [
    "# Students Performance in Exams: Predicting Total and Average Scores\n",
    "\n",
    "## About Dataset\n",
    "\n",
    "The dataset captures the marks secured by students in various subjects, providing an opportunity to explore factors influencing student performance.\n",
    "\n",
    "- **Source**: [Generated Data - Exams](http://roycekimmons.com/tools/generated_data/exams)\n",
    "- **Columns**:\n",
    "  - Gender\n",
    "  - Race/Ethnicity\n",
    "  - Parental Level of Education\n",
    "  - Lunch\n",
    "  - Test Preparation Course\n",
    "  - Math Score\n",
    "  - Reading Score\n",
    "  - Writing Score\n",
    "\n",
    "## Objectives\n",
    "\n",
    "The primary goals of this analysis are to:\n",
    "\n",
    "1. **Explore Factors Influencing Performance**: Understand the influence of variables such as parental background, test preparation, and other factors on students' scores.\n",
    "\n",
    "2. **Predict Total and Average Scores**: Build predictive models to estimate total and average scores based on available features.\n",
    "\n",
    "## Analysis Steps\n",
    "\n",
    "### 1. Data Exploration\n",
    "\n",
    "- **Overview**: Examine the distribution of scores and explore the relationships between variables.\n",
    "- **Descriptive Statistics**: Calculate summary statistics for key variables.\n",
    "\n",
    "### 2. Data Preprocessing\n",
    "\n",
    "- **Handling Missing Values**: Check for missing data and apply appropriate strategies.\n",
    "- **Categorical Encoding**: Convert categorical variables into a format suitable for modeling.\n",
    "\n",
    "### 3. Feature Engineering\n",
    "\n",
    "- **Create New Features**: Explore the possibility of creating new features that might enhance predictive power.\n",
    "\n",
    "### 4. Exploratory Data Analysis (EDA)\n",
    "\n",
    "- **Visualizations**: Utilize visualizations to gain insights into patterns and correlations.\n",
    "\n",
    "### 5. Model Building\n",
    "\n",
    "- **Linear Regression Models**: Develop models to predict total and average scores.\n",
    "- **Model Evaluation**: Assess model performance using relevant metrics.\n",
    "\n",
    "### 6. Interpretation and Conclusions\n",
    "\n",
    "- **Feature Importance**: Identify key factors influencing scores.\n",
    "- **Insights**: Draw conclusions and insights from the analysis.\n",
    "\n",
    "## Conclusion\n",
    "\n",
    "This project aims to provide a comprehensive analysis of students' performance in exams, considering various factors that may contribute to their scores. By predicting total and average scores, we can gain valuable insights into the dynamics of academic achievement.\n",
    "\n"
   ]
  },
  {
   "cell_type": "markdown",
   "id": "db381ee0",
   "metadata": {},
   "source": [
    "#### Importing Necessary Dependencies"
   ]
  },
  {
   "cell_type": "code",
   "execution_count": 40,
   "id": "b3f202e7",
   "metadata": {},
   "outputs": [],
   "source": [
    "# Data manipulation and analysis\n",
    "import pandas as pd\n",
    "import numpy as np\n",
    "\n",
    "# Data visualization\n",
    "import matplotlib.pyplot as plt\n",
    "import seaborn as sns\n",
    "\n",
    "from sklearn.preprocessing import LabelEncoder\n",
    "\n",
    "#Encoding\n",
    "label_encoder = LabelEncoder()\n",
    "\n",
    "# Machine learning\n",
    "from sklearn.model_selection import train_test_split\n",
    "from sklearn.linear_model import LinearRegression"
   ]
  },
  {
   "cell_type": "markdown",
   "id": "eb13e928",
   "metadata": {},
   "source": [
    "## Data Exploration"
   ]
  },
  {
   "cell_type": "markdown",
   "id": "b7a98d26",
   "metadata": {},
   "source": [
    "### 1.1 Load the dataset into a Pandas DataFrame\n"
   ]
  },
  {
   "cell_type": "code",
   "execution_count": 41,
   "id": "05ebcc5c",
   "metadata": {},
   "outputs": [],
   "source": [
    "df = pd.read_csv(\"Dataset/StudentsPerformance.csv\")"
   ]
  },
  {
   "cell_type": "code",
   "execution_count": 42,
   "id": "eaebff28",
   "metadata": {
    "scrolled": false
   },
   "outputs": [
    {
     "data": {
      "text/html": [
       "<div>\n",
       "<style scoped>\n",
       "    .dataframe tbody tr th:only-of-type {\n",
       "        vertical-align: middle;\n",
       "    }\n",
       "\n",
       "    .dataframe tbody tr th {\n",
       "        vertical-align: top;\n",
       "    }\n",
       "\n",
       "    .dataframe thead th {\n",
       "        text-align: right;\n",
       "    }\n",
       "</style>\n",
       "<table border=\"1\" class=\"dataframe\">\n",
       "  <thead>\n",
       "    <tr style=\"text-align: right;\">\n",
       "      <th></th>\n",
       "      <th>gender</th>\n",
       "      <th>race/ethnicity</th>\n",
       "      <th>parental level of education</th>\n",
       "      <th>lunch</th>\n",
       "      <th>test preparation course</th>\n",
       "      <th>math score</th>\n",
       "      <th>reading score</th>\n",
       "      <th>writing score</th>\n",
       "    </tr>\n",
       "  </thead>\n",
       "  <tbody>\n",
       "    <tr>\n",
       "      <th>0</th>\n",
       "      <td>female</td>\n",
       "      <td>group B</td>\n",
       "      <td>bachelor's degree</td>\n",
       "      <td>standard</td>\n",
       "      <td>none</td>\n",
       "      <td>72</td>\n",
       "      <td>72</td>\n",
       "      <td>74</td>\n",
       "    </tr>\n",
       "    <tr>\n",
       "      <th>1</th>\n",
       "      <td>female</td>\n",
       "      <td>group C</td>\n",
       "      <td>some college</td>\n",
       "      <td>standard</td>\n",
       "      <td>completed</td>\n",
       "      <td>69</td>\n",
       "      <td>90</td>\n",
       "      <td>88</td>\n",
       "    </tr>\n",
       "    <tr>\n",
       "      <th>2</th>\n",
       "      <td>female</td>\n",
       "      <td>group B</td>\n",
       "      <td>master's degree</td>\n",
       "      <td>standard</td>\n",
       "      <td>none</td>\n",
       "      <td>90</td>\n",
       "      <td>95</td>\n",
       "      <td>93</td>\n",
       "    </tr>\n",
       "    <tr>\n",
       "      <th>3</th>\n",
       "      <td>male</td>\n",
       "      <td>group A</td>\n",
       "      <td>associate's degree</td>\n",
       "      <td>free/reduced</td>\n",
       "      <td>none</td>\n",
       "      <td>47</td>\n",
       "      <td>57</td>\n",
       "      <td>44</td>\n",
       "    </tr>\n",
       "    <tr>\n",
       "      <th>4</th>\n",
       "      <td>male</td>\n",
       "      <td>group C</td>\n",
       "      <td>some college</td>\n",
       "      <td>standard</td>\n",
       "      <td>none</td>\n",
       "      <td>76</td>\n",
       "      <td>78</td>\n",
       "      <td>75</td>\n",
       "    </tr>\n",
       "  </tbody>\n",
       "</table>\n",
       "</div>"
      ],
      "text/plain": [
       "   gender race/ethnicity parental level of education         lunch  \\\n",
       "0  female        group B           bachelor's degree      standard   \n",
       "1  female        group C                some college      standard   \n",
       "2  female        group B             master's degree      standard   \n",
       "3    male        group A          associate's degree  free/reduced   \n",
       "4    male        group C                some college      standard   \n",
       "\n",
       "  test preparation course  math score  reading score  writing score  \n",
       "0                    none          72             72             74  \n",
       "1               completed          69             90             88  \n",
       "2                    none          90             95             93  \n",
       "3                    none          47             57             44  \n",
       "4                    none          76             78             75  "
      ]
     },
     "execution_count": 42,
     "metadata": {},
     "output_type": "execute_result"
    }
   ],
   "source": [
    "df.head(5) #Display the first 5 rows for inspection"
   ]
  },
  {
   "cell_type": "code",
   "execution_count": 43,
   "id": "b3c6d4c4",
   "metadata": {
    "scrolled": true
   },
   "outputs": [
    {
     "data": {
      "text/html": [
       "<div>\n",
       "<style scoped>\n",
       "    .dataframe tbody tr th:only-of-type {\n",
       "        vertical-align: middle;\n",
       "    }\n",
       "\n",
       "    .dataframe tbody tr th {\n",
       "        vertical-align: top;\n",
       "    }\n",
       "\n",
       "    .dataframe thead th {\n",
       "        text-align: right;\n",
       "    }\n",
       "</style>\n",
       "<table border=\"1\" class=\"dataframe\">\n",
       "  <thead>\n",
       "    <tr style=\"text-align: right;\">\n",
       "      <th></th>\n",
       "      <th>math score</th>\n",
       "      <th>reading score</th>\n",
       "      <th>writing score</th>\n",
       "    </tr>\n",
       "  </thead>\n",
       "  <tbody>\n",
       "    <tr>\n",
       "      <th>count</th>\n",
       "      <td>1000.00000</td>\n",
       "      <td>1000.000000</td>\n",
       "      <td>1000.000000</td>\n",
       "    </tr>\n",
       "    <tr>\n",
       "      <th>mean</th>\n",
       "      <td>66.08900</td>\n",
       "      <td>69.169000</td>\n",
       "      <td>68.054000</td>\n",
       "    </tr>\n",
       "    <tr>\n",
       "      <th>std</th>\n",
       "      <td>15.16308</td>\n",
       "      <td>14.600192</td>\n",
       "      <td>15.195657</td>\n",
       "    </tr>\n",
       "    <tr>\n",
       "      <th>min</th>\n",
       "      <td>0.00000</td>\n",
       "      <td>17.000000</td>\n",
       "      <td>10.000000</td>\n",
       "    </tr>\n",
       "    <tr>\n",
       "      <th>25%</th>\n",
       "      <td>57.00000</td>\n",
       "      <td>59.000000</td>\n",
       "      <td>57.750000</td>\n",
       "    </tr>\n",
       "    <tr>\n",
       "      <th>50%</th>\n",
       "      <td>66.00000</td>\n",
       "      <td>70.000000</td>\n",
       "      <td>69.000000</td>\n",
       "    </tr>\n",
       "    <tr>\n",
       "      <th>75%</th>\n",
       "      <td>77.00000</td>\n",
       "      <td>79.000000</td>\n",
       "      <td>79.000000</td>\n",
       "    </tr>\n",
       "    <tr>\n",
       "      <th>max</th>\n",
       "      <td>100.00000</td>\n",
       "      <td>100.000000</td>\n",
       "      <td>100.000000</td>\n",
       "    </tr>\n",
       "  </tbody>\n",
       "</table>\n",
       "</div>"
      ],
      "text/plain": [
       "       math score  reading score  writing score\n",
       "count  1000.00000    1000.000000    1000.000000\n",
       "mean     66.08900      69.169000      68.054000\n",
       "std      15.16308      14.600192      15.195657\n",
       "min       0.00000      17.000000      10.000000\n",
       "25%      57.00000      59.000000      57.750000\n",
       "50%      66.00000      70.000000      69.000000\n",
       "75%      77.00000      79.000000      79.000000\n",
       "max     100.00000     100.000000     100.000000"
      ]
     },
     "execution_count": 43,
     "metadata": {},
     "output_type": "execute_result"
    }
   ],
   "source": [
    "df.describe() #Overview of the statistics"
   ]
  },
  {
   "cell_type": "code",
   "execution_count": 44,
   "id": "b0a1510b",
   "metadata": {
    "scrolled": true
   },
   "outputs": [
    {
     "name": "stdout",
     "output_type": "stream",
     "text": [
      "<class 'pandas.core.frame.DataFrame'>\n",
      "RangeIndex: 1000 entries, 0 to 999\n",
      "Data columns (total 8 columns):\n",
      " #   Column                       Non-Null Count  Dtype \n",
      "---  ------                       --------------  ----- \n",
      " 0   gender                       1000 non-null   object\n",
      " 1   race/ethnicity               1000 non-null   object\n",
      " 2   parental level of education  1000 non-null   object\n",
      " 3   lunch                        1000 non-null   object\n",
      " 4   test preparation course      1000 non-null   object\n",
      " 5   math score                   1000 non-null   int64 \n",
      " 6   reading score                1000 non-null   int64 \n",
      " 7   writing score                1000 non-null   int64 \n",
      "dtypes: int64(3), object(5)\n",
      "memory usage: 62.6+ KB\n"
     ]
    }
   ],
   "source": [
    "df.info()"
   ]
  },
  {
   "cell_type": "markdown",
   "id": "614778c6",
   "metadata": {},
   "source": [
    "### 2. Data Preprocessing"
   ]
  },
  {
   "cell_type": "markdown",
   "id": "1a623d13",
   "metadata": {},
   "source": [
    "### 2.1 Rename the headers"
   ]
  },
  {
   "cell_type": "code",
   "execution_count": 45,
   "id": "21ce91a0",
   "metadata": {
    "scrolled": true
   },
   "outputs": [
    {
     "data": {
      "text/html": [
       "<div>\n",
       "<style scoped>\n",
       "    .dataframe tbody tr th:only-of-type {\n",
       "        vertical-align: middle;\n",
       "    }\n",
       "\n",
       "    .dataframe tbody tr th {\n",
       "        vertical-align: top;\n",
       "    }\n",
       "\n",
       "    .dataframe thead th {\n",
       "        text-align: right;\n",
       "    }\n",
       "</style>\n",
       "<table border=\"1\" class=\"dataframe\">\n",
       "  <thead>\n",
       "    <tr style=\"text-align: right;\">\n",
       "      <th></th>\n",
       "      <th>Gender</th>\n",
       "      <th>Ethnicity</th>\n",
       "      <th>Parent_Education</th>\n",
       "      <th>Lunch</th>\n",
       "      <th>Test_Preparation</th>\n",
       "      <th>Math_Score</th>\n",
       "      <th>Reading_Score</th>\n",
       "      <th>Writing_Score</th>\n",
       "    </tr>\n",
       "  </thead>\n",
       "  <tbody>\n",
       "    <tr>\n",
       "      <th>0</th>\n",
       "      <td>female</td>\n",
       "      <td>group B</td>\n",
       "      <td>bachelor's degree</td>\n",
       "      <td>standard</td>\n",
       "      <td>none</td>\n",
       "      <td>72</td>\n",
       "      <td>72</td>\n",
       "      <td>74</td>\n",
       "    </tr>\n",
       "    <tr>\n",
       "      <th>1</th>\n",
       "      <td>female</td>\n",
       "      <td>group C</td>\n",
       "      <td>some college</td>\n",
       "      <td>standard</td>\n",
       "      <td>completed</td>\n",
       "      <td>69</td>\n",
       "      <td>90</td>\n",
       "      <td>88</td>\n",
       "    </tr>\n",
       "    <tr>\n",
       "      <th>2</th>\n",
       "      <td>female</td>\n",
       "      <td>group B</td>\n",
       "      <td>master's degree</td>\n",
       "      <td>standard</td>\n",
       "      <td>none</td>\n",
       "      <td>90</td>\n",
       "      <td>95</td>\n",
       "      <td>93</td>\n",
       "    </tr>\n",
       "    <tr>\n",
       "      <th>3</th>\n",
       "      <td>male</td>\n",
       "      <td>group A</td>\n",
       "      <td>associate's degree</td>\n",
       "      <td>free/reduced</td>\n",
       "      <td>none</td>\n",
       "      <td>47</td>\n",
       "      <td>57</td>\n",
       "      <td>44</td>\n",
       "    </tr>\n",
       "    <tr>\n",
       "      <th>4</th>\n",
       "      <td>male</td>\n",
       "      <td>group C</td>\n",
       "      <td>some college</td>\n",
       "      <td>standard</td>\n",
       "      <td>none</td>\n",
       "      <td>76</td>\n",
       "      <td>78</td>\n",
       "      <td>75</td>\n",
       "    </tr>\n",
       "  </tbody>\n",
       "</table>\n",
       "</div>"
      ],
      "text/plain": [
       "   Gender Ethnicity    Parent_Education         Lunch Test_Preparation  \\\n",
       "0  female   group B   bachelor's degree      standard             none   \n",
       "1  female   group C        some college      standard        completed   \n",
       "2  female   group B     master's degree      standard             none   \n",
       "3    male   group A  associate's degree  free/reduced             none   \n",
       "4    male   group C        some college      standard             none   \n",
       "\n",
       "   Math_Score  Reading_Score  Writing_Score  \n",
       "0          72             72             74  \n",
       "1          69             90             88  \n",
       "2          90             95             93  \n",
       "3          47             57             44  \n",
       "4          76             78             75  "
      ]
     },
     "execution_count": 45,
     "metadata": {},
     "output_type": "execute_result"
    }
   ],
   "source": [
    "new_columns = {\n",
    "    'gender': 'Gender',\n",
    "    'race/ethnicity': 'Ethnicity',\n",
    "    'parental level of education': 'Parent_Education',\n",
    "    'lunch': 'Lunch',\n",
    "    'test preparation course': 'Test_Preparation',\n",
    "    'math score': 'Math_Score',\n",
    "    'reading score': 'Reading_Score',\n",
    "    'writing score': 'Writing_Score'\n",
    "}\n",
    "\n",
    "# Use the rename method to update the column names\n",
    "df.rename(columns=new_columns, inplace=True)\n",
    "\n",
    "# Display the updated DataFrame\n",
    "df.head()"
   ]
  },
  {
   "cell_type": "markdown",
   "id": "8482760c",
   "metadata": {},
   "source": [
    "### 2.2 Identify and handle missing values"
   ]
  },
  {
   "cell_type": "code",
   "execution_count": 46,
   "id": "d1c740e2",
   "metadata": {},
   "outputs": [
    {
     "name": "stdout",
     "output_type": "stream",
     "text": [
      "Missing Values:\n",
      "Gender              0\n",
      "Ethnicity           0\n",
      "Parent_Education    0\n",
      "Lunch               0\n",
      "Test_Preparation    0\n",
      "Math_Score          0\n",
      "Reading_Score       0\n",
      "Writing_Score       0\n",
      "dtype: int64\n"
     ]
    }
   ],
   "source": [
    "# Check for missing values in the DataFrame\n",
    "missing_values = df.isnull().sum()\n",
    "\n",
    "# Display the count of missing values for each column\n",
    "print(\"Missing Values:\")\n",
    "print(missing_values)"
   ]
  },
  {
   "cell_type": "markdown",
   "id": "f52fb55b",
   "metadata": {},
   "source": [
    "    Luckily, the dataset does not contain any missing values. This is beneficial for our analysis, as it ensures that we have complete information for all the variables. Having a dataset without missing values simplifies the preprocessing steps and allows us to focus on exploring and analyzing the available data more effectively."
   ]
  },
  {
   "cell_type": "markdown",
   "id": "3cea124d",
   "metadata": {},
   "source": [
    "#### 2.2 Categorical Encoding"
   ]
  },
  {
   "cell_type": "markdown",
   "id": "31040ae8",
   "metadata": {},
   "source": [
    "##### 2.1.1  Extracting categorical attributes headers from the DataFrame"
   ]
  },
  {
   "cell_type": "code",
   "execution_count": 47,
   "id": "005d0fe1",
   "metadata": {},
   "outputs": [
    {
     "name": "stdout",
     "output_type": "stream",
     "text": [
      "Categorical Attributes Headers:\n",
      "['Gender', 'Ethnicity', 'Parent_Education', 'Lunch', 'Test_Preparation']\n",
      "------------------------------------------------------------------------------------------\n",
      "Neumarical Attributes Headers:\n",
      "['Math_Score', 'Reading_Score', 'Writing_Score']\n"
     ]
    }
   ],
   "source": [
    "\n",
    "categorical_attributes_headers = df.select_dtypes(include='object').columns.tolist()\n",
    "\n",
    "# Displaying the headers of categorical attributes\n",
    "print(\"Categorical Attributes Headers:\")\n",
    "print(categorical_attributes_headers )\n",
    "print(\"---\"*30)\n",
    "\n",
    "# Extracting neumarical attributes headers from the DataFrame\n",
    "neumarical_attributes_headers = df.select_dtypes(include='int64').columns.tolist()\n",
    "\n",
    "# Displaying the headers of neumarical attributes\n",
    "print(\"Neumarical Attributes Headers:\")\n",
    "print(neumarical_attributes_headers)\n"
   ]
  },
  {
   "cell_type": "code",
   "execution_count": 48,
   "id": "f35eecf8",
   "metadata": {},
   "outputs": [
    {
     "name": "stdout",
     "output_type": "stream",
     "text": [
      "Unique values in Gender: ['female' 'male']\n",
      "\n",
      "Unique values in Ethnicity: ['group B' 'group C' 'group A' 'group D' 'group E']\n",
      "\n",
      "Unique values in Parent_Education: [\"bachelor's degree\" 'some college' \"master's degree\" \"associate's degree\"\n",
      " 'high school' 'some high school']\n",
      "\n",
      "Unique values in Lunch: ['standard' 'free/reduced']\n",
      "\n",
      "Unique values in Test_Preparation: ['none' 'completed']\n",
      "\n"
     ]
    }
   ],
   "source": [
    "# Finding unique values in each categorical column \n",
    "for column in categorical_attributes_headers:\n",
    "    unique_values = df[column].unique()\n",
    "    print(f\"Unique values in {column}:\", unique_values)\n",
    "    print()"
   ]
  },
  {
   "cell_type": "markdown",
   "id": "342666bc",
   "metadata": {},
   "source": [
    "##### Variable Types\n",
    "\n",
    "###### Categorical Variables:\n",
    "- **Ethnicity:** This variable represents the race or ethnicity of the students and likely consists of multiple categories.\n",
    "\n",
    "###### Ordinal Variables (a subtype of Categorical):\n",
    "- **Parent_Education:** This variable represents the parental level of education. It could be ordinal if there is a clear order such as \"bachelor's degree\" 'some college' \"master's degree\" \"associate's degree\" \"high school\" \"some high school\" etc.\n",
    "\n",
    "###### Binary Variables (a subtype of Categorical):\n",
    "- **Lunch:** This variable is binary, indicating whether a student receives free/reduced lunch or not.\n",
    "- **Test_Preparation:** Another binary variable indicating whether a student completed a test preparation course or not.\n",
    "- **Gender:** This variable represents the gender of the students and can take values like \"Male\" or \"Female.\"\n",
    "###### Numerical Variables:\n",
    "- **Math_Score, Reading_Score, Writing_Score:** These variables are numerical and likely represent the scores obtained by students in the corresponding subjects."
   ]
  },
  {
   "cell_type": "code",
   "execution_count": 65,
   "id": "0d1e7b11",
   "metadata": {},
   "outputs": [],
   "source": [
    "df_encoded = df.copy() # I want to keep the original data intake. "
   ]
  },
  {
   "cell_type": "code",
   "execution_count": 66,
   "id": "50fbe7b2",
   "metadata": {},
   "outputs": [],
   "source": [
    "df_encoded['Parent_Education'] = label_encoder.fit_transform(df_encoded['Parent_Education'])"
   ]
  },
  {
   "cell_type": "code",
   "execution_count": 67,
   "id": "4321faf8",
   "metadata": {},
   "outputs": [],
   "source": [
    "df_encoded = pd.get_dummies(df_encoded, columns=['Ethnicity'], drop_first=True)"
   ]
  },
  {
   "cell_type": "code",
   "execution_count": 68,
   "id": "591fc98d",
   "metadata": {
    "scrolled": true
   },
   "outputs": [
    {
     "data": {
      "text/html": [
       "<div>\n",
       "<style scoped>\n",
       "    .dataframe tbody tr th:only-of-type {\n",
       "        vertical-align: middle;\n",
       "    }\n",
       "\n",
       "    .dataframe tbody tr th {\n",
       "        vertical-align: top;\n",
       "    }\n",
       "\n",
       "    .dataframe thead th {\n",
       "        text-align: right;\n",
       "    }\n",
       "</style>\n",
       "<table border=\"1\" class=\"dataframe\">\n",
       "  <thead>\n",
       "    <tr style=\"text-align: right;\">\n",
       "      <th></th>\n",
       "      <th>Gender</th>\n",
       "      <th>Parent_Education</th>\n",
       "      <th>Lunch</th>\n",
       "      <th>Test_Preparation</th>\n",
       "      <th>Math_Score</th>\n",
       "      <th>Reading_Score</th>\n",
       "      <th>Writing_Score</th>\n",
       "      <th>Ethnicity_group B</th>\n",
       "      <th>Ethnicity_group C</th>\n",
       "      <th>Ethnicity_group D</th>\n",
       "      <th>Ethnicity_group E</th>\n",
       "    </tr>\n",
       "  </thead>\n",
       "  <tbody>\n",
       "    <tr>\n",
       "      <th>0</th>\n",
       "      <td>female</td>\n",
       "      <td>1</td>\n",
       "      <td>standard</td>\n",
       "      <td>none</td>\n",
       "      <td>72</td>\n",
       "      <td>72</td>\n",
       "      <td>74</td>\n",
       "      <td>1</td>\n",
       "      <td>0</td>\n",
       "      <td>0</td>\n",
       "      <td>0</td>\n",
       "    </tr>\n",
       "    <tr>\n",
       "      <th>1</th>\n",
       "      <td>female</td>\n",
       "      <td>4</td>\n",
       "      <td>standard</td>\n",
       "      <td>completed</td>\n",
       "      <td>69</td>\n",
       "      <td>90</td>\n",
       "      <td>88</td>\n",
       "      <td>0</td>\n",
       "      <td>1</td>\n",
       "      <td>0</td>\n",
       "      <td>0</td>\n",
       "    </tr>\n",
       "    <tr>\n",
       "      <th>2</th>\n",
       "      <td>female</td>\n",
       "      <td>3</td>\n",
       "      <td>standard</td>\n",
       "      <td>none</td>\n",
       "      <td>90</td>\n",
       "      <td>95</td>\n",
       "      <td>93</td>\n",
       "      <td>1</td>\n",
       "      <td>0</td>\n",
       "      <td>0</td>\n",
       "      <td>0</td>\n",
       "    </tr>\n",
       "    <tr>\n",
       "      <th>3</th>\n",
       "      <td>male</td>\n",
       "      <td>0</td>\n",
       "      <td>free/reduced</td>\n",
       "      <td>none</td>\n",
       "      <td>47</td>\n",
       "      <td>57</td>\n",
       "      <td>44</td>\n",
       "      <td>0</td>\n",
       "      <td>0</td>\n",
       "      <td>0</td>\n",
       "      <td>0</td>\n",
       "    </tr>\n",
       "    <tr>\n",
       "      <th>4</th>\n",
       "      <td>male</td>\n",
       "      <td>4</td>\n",
       "      <td>standard</td>\n",
       "      <td>none</td>\n",
       "      <td>76</td>\n",
       "      <td>78</td>\n",
       "      <td>75</td>\n",
       "      <td>0</td>\n",
       "      <td>1</td>\n",
       "      <td>0</td>\n",
       "      <td>0</td>\n",
       "    </tr>\n",
       "  </tbody>\n",
       "</table>\n",
       "</div>"
      ],
      "text/plain": [
       "   Gender  Parent_Education         Lunch Test_Preparation  Math_Score  \\\n",
       "0  female                 1      standard             none          72   \n",
       "1  female                 4      standard        completed          69   \n",
       "2  female                 3      standard             none          90   \n",
       "3    male                 0  free/reduced             none          47   \n",
       "4    male                 4      standard             none          76   \n",
       "\n",
       "   Reading_Score  Writing_Score  Ethnicity_group B  Ethnicity_group C  \\\n",
       "0             72             74                  1                  0   \n",
       "1             90             88                  0                  1   \n",
       "2             95             93                  1                  0   \n",
       "3             57             44                  0                  0   \n",
       "4             78             75                  0                  1   \n",
       "\n",
       "   Ethnicity_group D  Ethnicity_group E  \n",
       "0                  0                  0  \n",
       "1                  0                  0  \n",
       "2                  0                  0  \n",
       "3                  0                  0  \n",
       "4                  0                  0  "
      ]
     },
     "execution_count": 68,
     "metadata": {},
     "output_type": "execute_result"
    }
   ],
   "source": []
  },
  {
   "cell_type": "code",
   "execution_count": null,
   "id": "c6d4d649",
   "metadata": {},
   "outputs": [],
   "source": []
  }
 ],
 "metadata": {
  "kernelspec": {
   "display_name": "Python 3 (ipykernel)",
   "language": "python",
   "name": "python3"
  },
  "language_info": {
   "codemirror_mode": {
    "name": "ipython",
    "version": 3
   },
   "file_extension": ".py",
   "mimetype": "text/x-python",
   "name": "python",
   "nbconvert_exporter": "python",
   "pygments_lexer": "ipython3",
   "version": "3.11.4"
  }
 },
 "nbformat": 4,
 "nbformat_minor": 5
}
